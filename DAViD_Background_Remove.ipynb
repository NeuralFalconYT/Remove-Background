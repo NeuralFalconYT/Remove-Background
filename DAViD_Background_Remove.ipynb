{
  "nbformat": 4,
  "nbformat_minor": 0,
  "metadata": {
    "colab": {
      "private_outputs": true,
      "provenance": [],
      "gpuType": "T4"
    },
    "kernelspec": {
      "name": "python3",
      "display_name": "Python 3"
    },
    "language_info": {
      "name": "python"
    },
    "accelerator": "GPU"
  },
  "cells": [
    {
      "cell_type": "markdown",
      "source": [
        "Credit: [DAViD](https://github.com/microsoft/DAViD)"
      ],
      "metadata": {
        "id": "E90SWjnoCWFy"
      }
    },
    {
      "cell_type": "code",
      "source": [
        "#@title Install\n",
        "%cd /content/\n",
        "!git clone https://github.com/NeuralFalconYT/Remove-Background.git\n",
        "%cd ./Remove-Background\n",
        "!apt install aria2 -y\n",
        "# !aria2c -x 16 -s 16 \"https://facesyntheticspubwedata.z6.web.core.windows.net/iccv-2025/models/foreground-segmentation-model-vitb16_384.onnx\" #base model\n",
        "!aria2c -x 16 -s 16 \"https://facesyntheticspubwedata.z6.web.core.windows.net/iccv-2025/models/foreground-segmentation-model-vitl16_384.onnx\" #large model\n",
        "\n",
        "!pip install onnxruntime-gpu\n",
        "# !pip install onnxruntime-gpu==1.22.0\n",
        "!pip install numpy==2.2.6\n",
        "!pip install onnx==1.18.0\n",
        "!pip install opencv-python==4.12.0.88\n",
        "!pip install gradio>=5.38.2\n",
        "!pip install gradio_imageslider==0.0.20\n",
        "from IPython.display import clear_output\n",
        "clear_output()\n",
        "import time\n",
        "time.sleep(5)\n",
        "import os\n",
        "os.kill(os.getpid(), 9)\n"
      ],
      "metadata": {
        "cellView": "form",
        "id": "RRNNomg0Xbu1"
      },
      "execution_count": null,
      "outputs": []
    },
    {
      "cell_type": "markdown",
      "source": [
        "Don't panic if you see this ![image.png](data:image/png;base64,iVBORw0KGgoAAAANSUhEUgAAAB8AAAAgCAYAAADqgqNBAAAAAXNSR0IArs4c6QAAAARnQU1BAACxjwv8YQUAAAAJcEhZcwAAEnQAABJ0Ad5mH3gAAALVSURBVFhH5ZbdS1NhHMe/a7IsGTlfRmeaHjczdeocpg2EpgRqV4YEXflyKXQdXUQhdNGF9heYEE3ooiKzC1GOMAetyHC+XGii4GRMGMyBZHu5OV2dw3l+np0dZ9hFn7vf93vgs/M855w9Bo/HI+IfcYEG50lecluJBc3VVXDba3DdxqGo8CK9RBcGvcvudTbC2+REm8OOSyYTrbEXiyG4tQ1hbR2ReJzWquSUdzbUY7jbC95qpVVWZr//wJSwiGQmQysGTfloXw8GPLdorIuDRAITM7PYCO/TSibrnj8euJe3GAA4iwUTI0O46XDQSkZVPtrXgzstzTQ+NQaDAc8e3EdVeRmtADV5Z0P9me6YUmgy4eHdPhoDavLhbi+NGHrGnsPnX6KxJm57DXrdLhqzcq+zUddT7fMH4PMvYW0vTKus9He004jIm5zKUROfP4BHr9/oXoVajkNdhY3JGHmbw64cdeHzB3RvRSvPM7Mst5VYVL9cetHzI3hrOTPL8lKzmSnyRet5oA5ZXmA0MsVZ8PkDmFZZAeqQ5b9SKabIFxdfjfGRIYyPDNEKx+k0M8vy6OEhU+SDJHXx1bQCAETjrEOWH6fS2IvFmFIvg123sTD2NKtUYjMSYWbmVQtubSvHnEhLPNil/VUEAFEUsbyzy2SMXFhbV45ZUe5rrruVmFsJ4TfZc2NlZeWYNBwlk7hyuQg3yJdISQvPY7DLi6vFxbTS5MWHjzhKJpnsxB/LlLCIg0SCxjJ671TJ5IKgerQ6IU9mMpiYmYUoZj3gnIr50CreBb/SGFCTA8BGeB9Ppt8ileMMlov50CpefvpMYxlmz5VEEwl82fqJa2Vl4CwWWudkckHAK2GRxgyaB0iJXrcL/R3tqOU4WjGIooi5lRDeB7+p7jFFl1yirsKGVp4Hby1HqdmMAqMRx+k0ovFDbEYiWN7ZPfE6aXEq+d9G9YE7L/5f+R/cluZOHFIynQAAAABJRU5ErkJggg==) red error cell, that just means Colab automatically restarted the kernel. Now, simply run the next cell."
      ],
      "metadata": {
        "id": "2-cB4JuTCoN5"
      }
    },
    {
      "cell_type": "code",
      "source": [
        "%cd /content/Remove-Background\n",
        "!python app.py"
      ],
      "metadata": {
        "id": "_oJEBJLgBOp3"
      },
      "execution_count": null,
      "outputs": []
    }
  ]
}